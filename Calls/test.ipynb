{
 "cells": [
  {
   "cell_type": "code",
   "execution_count": 3,
   "metadata": {},
   "outputs": [],
   "source": [
    "from class_db import *\n",
    "from class_vk import *"
   ]
  },
  {
   "cell_type": "code",
   "execution_count": 4,
   "metadata": {},
   "outputs": [],
   "source": [
    "db = PostgreDB(DBCONNECT)"
   ]
  },
  {
   "cell_type": "code",
   "execution_count": 17,
   "metadata": {},
   "outputs": [],
   "source": [
    "def parse_time_video_rutube(url):\n",
    "\tpage = requests.get(url)\n",
    "\tsoup = BeautifulSoup(page.text, \"html.parser\")\n",
    "\tfor i in soup.find_all('meta'):\n",
    "\t\t_time = str(i).split('=')[1].split('длительностью')\n",
    "\t\tif len(_time) <= 1:\n",
    "\t\t\tcontinue\n",
    "\t\t\n",
    "\t\treturn _time[1].split(',')[0][:6]\n",
    "\t\thour, minute = _time[1].split(',')[0][:6].split(':')\n",
    "\t\treturn int(minute) + 60 * int(hour)"
   ]
  },
  {
   "cell_type": "code",
   "execution_count": 18,
   "metadata": {},
   "outputs": [
    {
     "data": {
      "text/plain": [
       "' 01:04'"
      ]
     },
     "execution_count": 18,
     "metadata": {},
     "output_type": "execute_result"
    }
   ],
   "source": [
    "parse_time_video_rutube('https://rutube.ru/video/34782690b348f2f2f37dc70640738eda/')"
   ]
  },
  {
   "cell_type": "code",
   "execution_count": null,
   "metadata": {},
   "outputs": [],
   "source": []
  }
 ],
 "metadata": {
  "kernelspec": {
   "display_name": "Python 3",
   "language": "python",
   "name": "python3"
  },
  "language_info": {
   "codemirror_mode": {
    "name": "ipython",
    "version": 3
   },
   "file_extension": ".py",
   "mimetype": "text/x-python",
   "name": "python",
   "nbconvert_exporter": "python",
   "pygments_lexer": "ipython3",
   "version": "3.12.7"
  }
 },
 "nbformat": 4,
 "nbformat_minor": 2
}
