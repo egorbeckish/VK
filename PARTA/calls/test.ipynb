{
 "cells": [
  {
   "cell_type": "code",
   "execution_count": 2,
   "metadata": {},
   "outputs": [],
   "source": [
    "import psycopg2\n",
    "from prettytable import from_db_cursor\n",
    "\n",
    "connect = psycopg2.connect(\n",
    "\tdbname='vk',\n",
    "\tuser='postgres',\n",
    "\tpassword='123'\n",
    ")\n",
    "\n",
    "connect.autocommit = True\n",
    "cursor = connect.cursor()\n",
    "\n",
    "cursor.execute(\"\"\"select c.student_id\n",
    "from table_calls as c\n",
    "join table_send as s\n",
    "on c.student_id=s.student_id\n",
    "where s.second_call_in_table='true' and c.second_call='Не проведен';\n",
    "\"\"\")\n",
    "\n",
    "for i in cursor.fetchall():\n",
    "\tcursor.execute(f\"\"\"update table_send set second_call_in_table='false' where student_id='{i[0]}'\"\"\")\n",
    "\n",
    "#cursor.execute(\"\"\"\n",
    "#\t\t\tselect se.student_id, t.group_name, t.second_link\n",
    "#\t\t\tfrom table_send as se\n",
    "#\t\t\tjoin (\n",
    "#\t\t\t\tselect c.student_id, s.group_name, c.second_link\n",
    "#\t\t\t\tfrom table_calls as c\n",
    "#\t\t\t\tjoin table_students as s\n",
    "#\t\t\t\ton c.student_id=s.student_id\n",
    "#\t\t\t\twhere c.second_call='Проведен'\n",
    "#\t\t\t) as t\n",
    "#\t\t\ton se.student_id=t.student_id\n",
    "#\t\t\twhere se.second_call_in_table=false\n",
    "#\t\t\t;\n",
    "#\t\t\"\"\")\n",
    "\n",
    "#a = cursor.fetchall()\n",
    "#print(len(a))\n",
    "#for i in a:\n",
    "#\tcursor.execute(f\"\"\"update table_send set second_call_in_table='True' where student_id='{i[0]}'\"\"\")\n",
    "\n",
    "#cursor.execute(\"\"\"\n",
    "#\t\t\tselect se.student_id, t.group_name, t.first_link\n",
    "#\t\t\tfrom table_send as se\n",
    "#\t\t\tjoin (\n",
    "#\t\t\t\tselect c.student_id, s.group_name, c.first_link\n",
    "#\t\t\t\tfrom table_calls as c\n",
    "#\t\t\t\tjoin table_students as s\n",
    "#\t\t\t\ton c.student_id=s.student_id\n",
    "#\t\t\t\twhere c.first_call='Проведен'\n",
    "#\t\t\t) as t\n",
    "#\t\t\ton se.student_id=t.student_id\n",
    "#\t\t\twhere se.first_call_in_table=false\n",
    "#\t\t\t;\n",
    "#\t\t\"\"\")\n",
    "#a = cursor.fetchall()\n",
    "#print(len(a))\n",
    "#for i in a:\n",
    "#\tcursor.execute(f\"\"\"update table_send set first_call_in_table='True' where student_id='{i[0]}'\"\"\")\n",
    "\n",
    "\n",
    "\n"
   ]
  },
  {
   "cell_type": "code",
   "execution_count": 3,
   "metadata": {},
   "outputs": [
    {
     "data": {
      "text/plain": [
       "8"
      ]
     },
     "execution_count": 3,
     "metadata": {},
     "output_type": "execute_result"
    }
   ],
   "source": [
    "from ipaddress import *\n",
    "\n",
    "n = ip_network('192.168.32.160/255.255.255.240')\n",
    "\n",
    "counter = 0\n",
    "for i in n:\n",
    "\tt = f'{i:b}'\n",
    "\tif sum(list(map(int, t))) % 2 == 0:\n",
    "\t\tcounter += 1\n",
    "counter"
   ]
  },
  {
   "cell_type": "code",
   "execution_count": 4,
   "metadata": {},
   "outputs": [
    {
     "name": "stdout",
     "output_type": "stream",
     "text": [
      "0 0 0 0\n",
      "0 0 1 0\n",
      "1 0 1 0\n",
      "1 1 1 0\n",
      "1 1 1 1\n"
     ]
    }
   ],
   "source": [
    "for x in range(2):\n",
    "\tfor y in range(2):\n",
    "\t\tfor z in range(2):\n",
    "\t\t\tfor w in range(2):\n",
    "\t\t\t\tif ((x <= y) and (y <= z) and (z <= w)):\n",
    "\t\t\t\t\tprint(z, y, w, x)"
   ]
  },
  {
   "cell_type": "code",
   "execution_count": null,
   "metadata": {},
   "outputs": [],
   "source": []
  }
 ],
 "metadata": {
  "kernelspec": {
   "display_name": "Python 3",
   "language": "python",
   "name": "python3"
  },
  "language_info": {
   "codemirror_mode": {
    "name": "ipython",
    "version": 3
   },
   "file_extension": ".py",
   "mimetype": "text/x-python",
   "name": "python",
   "nbconvert_exporter": "python",
   "pygments_lexer": "ipython3",
   "version": "3.12.0"
  }
 },
 "nbformat": 4,
 "nbformat_minor": 2
}
